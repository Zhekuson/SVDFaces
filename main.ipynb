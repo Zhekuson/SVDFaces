{
 "cells": [
  {
   "cell_type": "code",
   "execution_count": 2,
   "metadata": {},
   "outputs": [],
   "source": [
    "import numpy as np\n",
    "import sympy as sp\n",
    "import torch\n"
   ]
  },
  {
   "cell_type": "code",
   "execution_count": 5,
   "metadata": {},
   "outputs": [],
   "source": [
    "A = np.array([[1, 0, 0, 0, 2],\n",
    "      [0, 0, 3, 0, 0],\n",
    "      [0, 0, 0, 0, 0],\n",
    "      [0, 4, 0, 0, 0]])"
   ]
  },
  {
   "cell_type": "code",
   "execution_count": 15,
   "metadata": {},
   "outputs": [
    {
     "data": {
      "text/plain": [
       "(array([[ 0.,  0.,  1.,  0.],\n",
       "        [ 0.,  1.,  0.,  0.],\n",
       "        [ 0.,  0.,  0., -1.],\n",
       "        [ 1.,  0.,  0.,  0.]]),\n",
       " array([4.        , 3.        , 2.23606798, 0.        ]),\n",
       " array([[-0.        ,  1.        ,  0.        ,  0.        ,  0.        ],\n",
       "        [-0.        ,  0.        ,  1.        ,  0.        ,  0.        ],\n",
       "        [ 0.4472136 ,  0.        ,  0.        ,  0.        ,  0.89442719],\n",
       "        [ 0.        ,  0.        ,  0.        ,  1.        ,  0.        ],\n",
       "        [-0.89442719,  0.        ,  0.        ,  0.        ,  0.4472136 ]]))"
      ]
     },
     "execution_count": 15,
     "metadata": {},
     "output_type": "execute_result"
    }
   ],
   "source": [
    "np.linalg.svd(A)"
   ]
  },
  {
   "cell_type": "code",
   "execution_count": 106,
   "metadata": {},
   "outputs": [
    {
     "ename": "ValueError",
     "evalue": "matmul: Input operand 1 has a mismatch in its core dimension 0, with gufunc signature (n?,k),(k,m?)->(n?,m?) (size 5 is different from 4)",
     "output_type": "error",
     "traceback": [
      "\u001b[1;31m---------------------------------------------------------------------------\u001b[0m",
      "\u001b[1;31mValueError\u001b[0m                                Traceback (most recent call last)",
      "\u001b[1;32m<ipython-input-106-6b3efa0ccc4d>\u001b[0m in \u001b[0;36m<module>\u001b[1;34m\u001b[0m\n\u001b[0;32m      1\u001b[0m \u001b[0mU\u001b[0m\u001b[1;33m,\u001b[0m \u001b[0mSigma\u001b[0m\u001b[1;33m,\u001b[0m \u001b[0mV\u001b[0m \u001b[1;33m=\u001b[0m \u001b[0mnp\u001b[0m\u001b[1;33m.\u001b[0m\u001b[0mlinalg\u001b[0m\u001b[1;33m.\u001b[0m\u001b[0msvd\u001b[0m\u001b[1;33m(\u001b[0m\u001b[0mA\u001b[0m\u001b[1;33m)\u001b[0m\u001b[1;33m\u001b[0m\u001b[1;33m\u001b[0m\u001b[0m\n\u001b[1;32m----> 2\u001b[1;33m \u001b[0mU\u001b[0m \u001b[1;33m@\u001b[0m \u001b[0mSigma\u001b[0m \u001b[1;33m@\u001b[0m \u001b[0mV\u001b[0m\u001b[1;33m\u001b[0m\u001b[1;33m\u001b[0m\u001b[0m\n\u001b[0m",
      "\u001b[1;31mValueError\u001b[0m: matmul: Input operand 1 has a mismatch in its core dimension 0, with gufunc signature (n?,k),(k,m?)->(n?,m?) (size 5 is different from 4)"
     ]
    }
   ],
   "source": [
    "U, Sigma, V = np.linalg.svd(A)\n",
    "U @ Sigma @ V"
   ]
  },
  {
   "cell_type": "code",
   "execution_count": 115,
   "metadata": {},
   "outputs": [],
   "source": [
    "def custom_SVD(M):\n",
    "    MTM = np.transpose(M) @ M\n",
    "    MMT = M @ np.transpose(M)\n",
    "    # m x n  \n",
    "    if (M.shape[0] < M.shape[1]):\n",
    "        # m < n\n",
    "        eigenvalues, eigenvectors = np.linalg.eig(MMT)\n",
    "        sort_eigenvalues = np.sort(eigenvalues)[::-1]\n",
    "        indexes = np.argsort(eigenvalues)[::-1]\n",
    "        Sigma = np.sqrt(sort_eigenvalues)\n",
    "        U = eigenvectors[:,indexes]\n",
    "        #search V\n",
    "        eigenvalues, eigenvectors = np.linalg.eig(MTM)\n",
    "        sort_eigenvalues = np.sort(eigenvalues)[::-1]\n",
    "        indexes = np.argsort(eigenvalues)[::-1]\n",
    "        V = eigenvectors[:,indexes]\n",
    "    else:\n",
    "        # n <= m\n",
    "        eigenvalues, eigenvectors = np.linalg.eig(MTM)\n",
    "        sort_eigenvalues = np.sort(eigenvalues)[::-1]\n",
    "        indexes = np.argsort(eigenvalues)[::-1]\n",
    "        Sigma = np.sqrt(sort_eigenvalues)\n",
    "        V = eigenvectors[:,indexes]\n",
    "        # search U \n",
    "        eigenvalues, eigenvectors = np.linalg.eig(MMT)\n",
    "        sort_eigenvalues = np.sort(eigenvalues)[::-1]\n",
    "        indexes = np.argsort(eigenvalues)[::-1]\n",
    "        U = eigenvectors[:,indexes]\n",
    "    return U, Sigma, V\n",
    "    \n"
   ]
  },
  {
   "cell_type": "code",
   "execution_count": 113,
   "metadata": {},
   "outputs": [],
   "source": [
    "U, Sigma, V = custom_SVD(A)"
   ]
  },
  {
   "cell_type": "code",
   "execution_count": 136,
   "metadata": {},
   "outputs": [],
   "source": [
    "def getFullSigma(Sigma, A):\n",
    "    result = np.zeros(A.shape)\n",
    "    for i in range(np.min(A.shape)):\n",
    "        result[i][i] = Sigma[i]\n",
    "    return result"
   ]
  },
  {
   "cell_type": "code",
   "execution_count": 137,
   "metadata": {},
   "outputs": [
    {
     "data": {
      "text/plain": [
       "array([[4.        , 0.        , 0.        , 0.        , 0.        ],\n",
       "       [0.        , 3.        , 0.        , 0.        , 0.        ],\n",
       "       [0.        , 0.        , 2.23606798, 0.        , 0.        ],\n",
       "       [0.        , 0.        , 0.        , 0.        , 0.        ]])"
      ]
     },
     "execution_count": 137,
     "metadata": {},
     "output_type": "execute_result"
    }
   ],
   "source": [
    "getFullSigma(Sigma,A)"
   ]
  },
  {
   "cell_type": "markdown",
   "metadata": {},
   "source": [
    "$U * \\sigma $"
   ]
  },
  {
   "cell_type": "code",
   "execution_count": 139,
   "metadata": {},
   "outputs": [
    {
     "data": {
      "text/plain": [
       "array([[-1.,  0.,  0.,  0., -2.],\n",
       "       [ 0.,  0.,  3.,  0.,  0.],\n",
       "       [ 0.,  0.,  0.,  0.,  0.],\n",
       "       [ 0.,  4.,  0.,  0.,  0.]])"
      ]
     },
     "execution_count": 139,
     "metadata": {},
     "output_type": "execute_result"
    }
   ],
   "source": [
    "U @ getFullSigma(Sigma,A) @ V.transpose()"
   ]
  },
  {
   "cell_type": "code",
   "execution_count": 129,
   "metadata": {},
   "outputs": [],
   "source": [
    "Res = np.diag(Sigma)\n",
    "Res.resize(A.shape)\n",
    "np.zeros(A.shape())"
   ]
  },
  {
   "cell_type": "code",
   "execution_count": 130,
   "metadata": {},
   "outputs": [
    {
     "name": "stdout",
     "output_type": "stream",
     "text": [
      "[[4.         0.         0.         0.         0.        ]\n",
      " [3.         0.         0.         0.         0.        ]\n",
      " [2.23606798 0.         0.         0.         0.        ]\n",
      " [0.         0.         0.         0.         0.        ]]\n"
     ]
    }
   ],
   "source": [
    "print(Res)"
   ]
  },
  {
   "cell_type": "code",
   "execution_count": 78,
   "metadata": {},
   "outputs": [],
   "source": [
    "x = np.array([1,3,5,2,7])\n",
    "ind = np.argsort(x)[::-1]"
   ]
  },
  {
   "cell_type": "code",
   "execution_count": 79,
   "metadata": {},
   "outputs": [
    {
     "data": {
      "text/plain": [
       "array([7, 5, 3, 2, 1])"
      ]
     },
     "execution_count": 79,
     "metadata": {},
     "output_type": "execute_result"
    }
   ],
   "source": [
    "x[ind]"
   ]
  }
 ],
 "metadata": {
  "kernelspec": {
   "display_name": "Python 3",
   "language": "python",
   "name": "python3"
  },
  "language_info": {
   "codemirror_mode": {
    "name": "ipython",
    "version": 3
   },
   "file_extension": ".py",
   "mimetype": "text/x-python",
   "name": "python",
   "nbconvert_exporter": "python",
   "pygments_lexer": "ipython3",
   "version": "3.8.3"
  }
 },
 "nbformat": 4,
 "nbformat_minor": 4
}
