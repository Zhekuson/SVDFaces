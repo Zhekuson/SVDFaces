{
 "cells": [
  {
   "cell_type": "code",
   "execution_count": 2,
   "metadata": {},
   "outputs": [],
   "source": [
    "import numpy as np\n",
    "import sympy as sp\n",
    "import torch\n"
   ]
  },
  {
   "cell_type": "code",
   "execution_count": 5,
   "metadata": {},
   "outputs": [],
   "source": [
    "A = np.array([[1, 0, 0, 0, 2],\n",
    "      [0, 0, 3, 0, 0],\n",
    "      [0, 0, 0, 0, 0],\n",
    "      [0, 4, 0, 0, 0]])"
   ]
  },
  {
   "cell_type": "code",
   "execution_count": 15,
   "metadata": {},
   "outputs": [
    {
     "data": {
      "text/plain": [
       "(array([[ 0.,  0.,  1.,  0.],\n",
       "        [ 0.,  1.,  0.,  0.],\n",
       "        [ 0.,  0.,  0., -1.],\n",
       "        [ 1.,  0.,  0.,  0.]]),\n",
       " array([4.        , 3.        , 2.23606798, 0.        ]),\n",
       " array([[-0.        ,  1.        ,  0.        ,  0.        ,  0.        ],\n",
       "        [-0.        ,  0.        ,  1.        ,  0.        ,  0.        ],\n",
       "        [ 0.4472136 ,  0.        ,  0.        ,  0.        ,  0.89442719],\n",
       "        [ 0.        ,  0.        ,  0.        ,  1.        ,  0.        ],\n",
       "        [-0.89442719,  0.        ,  0.        ,  0.        ,  0.4472136 ]]))"
      ]
     },
     "execution_count": 15,
     "metadata": {},
     "output_type": "execute_result"
    }
   ],
   "source": [
    "np.linalg.svd(A)"
   ]
  },
  {
   "cell_type": "code",
   "execution_count": 140,
   "metadata": {},
   "outputs": [],
   "source": [
    "U, Sigma, V = np.linalg.svd(A)\n"
   ]
  },
  {
   "cell_type": "code",
   "execution_count": 245,
   "metadata": {},
   "outputs": [],
   "source": [
    "\n",
    "def get_sigma_matrix(M):\n",
    "    '''\n",
    "    returns sigma and \n",
    "    1) in case MMT -> U\n",
    "    2) in case MTM -> V\n",
    "    '''\n",
    "    eigenvalues, eigenvectors = np.linalg.eig(M)\n",
    "    sort_eigenvalues = np.sort(eigenvalues)[::-1]\n",
    "    indexes = np.argsort(eigenvalues)[::-1]\n",
    "    Sigma = np.sqrt(sort_eigenvalues)\n",
    "    matrix = eigenvectors[:,indexes]\n",
    "    return Sigma, matrix\n",
    "def custom_SVD(M):\n",
    "    '''\n",
    "    returns U, Sigma(vector), V^T\n",
    "    '''\n",
    "    MTM = np.transpose(M) @ M\n",
    "    MMT = M @ np.transpose(M)\n",
    "    # m x n  \n",
    "    if (M.shape[0] < M.shape[1]):\n",
    "        # m < n\n",
    "        Sigma, U = get_sigma_matrix(MMT)\n",
    "        #search V\n",
    "        _, V = get_sigma_matrix(MTM)\n",
    "    else:\n",
    "        # n <= m\n",
    "        Sigma, V = get_sigma_matrix(MTM)\n",
    "        # search U \n",
    "        _, U = get_sigma_matrix(MMT) \n",
    "    return U, Sigma, V.transpose()\n",
    "    \n"
   ]
  },
  {
   "cell_type": "code",
   "execution_count": 246,
   "metadata": {},
   "outputs": [],
   "source": [
    "U, Sigma, V = custom_SVD(A)"
   ]
  },
  {
   "cell_type": "code",
   "execution_count": 247,
   "metadata": {},
   "outputs": [],
   "source": [
    "def get_full_sigma(Sigma, A):\n",
    "    result = np.zeros(A.shape)\n",
    "    for i in range(np.min(A.shape)):\n",
    "        result[i][i] = Sigma[i]\n",
    "    return result"
   ]
  },
  {
   "cell_type": "code",
   "execution_count": 248,
   "metadata": {},
   "outputs": [
    {
     "data": {
      "text/plain": [
       "array([[4.        , 0.        , 0.        , 0.        , 0.        ],\n",
       "       [0.        , 3.        , 0.        , 0.        , 0.        ],\n",
       "       [0.        , 0.        , 2.23606798, 0.        , 0.        ],\n",
       "       [0.        , 0.        , 0.        , 0.        , 0.        ]])"
      ]
     },
     "execution_count": 248,
     "metadata": {},
     "output_type": "execute_result"
    }
   ],
   "source": [
    "get_full_sigma(Sigma,A)"
   ]
  },
  {
   "cell_type": "code",
   "execution_count": 249,
   "metadata": {},
   "outputs": [
    {
     "data": {
      "text/plain": [
       "(array([[0., 0., 1., 0.],\n",
       "        [0., 1., 0., 0.],\n",
       "        [0., 0., 0., 1.],\n",
       "        [1., 0., 0., 0.]]),\n",
       " array([4.        , 3.        , 2.23606798, 0.        ]),\n",
       " array([[ 0.        ,  1.        ,  0.        ,  0.        ,  0.        ],\n",
       "        [ 0.        ,  0.        ,  1.        ,  0.        ,  0.        ],\n",
       "        [-0.4472136 ,  0.        ,  0.        ,  0.        , -0.89442719],\n",
       "        [ 0.        ,  0.        ,  0.        ,  1.        ,  0.        ],\n",
       "        [-0.89442719,  0.        ,  0.        ,  0.        ,  0.4472136 ]]))"
      ]
     },
     "execution_count": 249,
     "metadata": {},
     "output_type": "execute_result"
    }
   ],
   "source": [
    "custom_SVD(A)"
   ]
  },
  {
   "cell_type": "markdown",
   "metadata": {},
   "source": [
    "$A = U * \\Sigma * V^{T} $"
   ]
  },
  {
   "cell_type": "code",
   "execution_count": 250,
   "metadata": {},
   "outputs": [
    {
     "data": {
      "text/plain": [
       "array([[-1.,  0.,  0.,  0., -2.],\n",
       "       [ 0.,  0.,  3.,  0.,  0.],\n",
       "       [ 0.,  0.,  0.,  0.,  0.],\n",
       "       [ 0.,  4.,  0.,  0.,  0.]])"
      ]
     },
     "execution_count": 250,
     "metadata": {},
     "output_type": "execute_result"
    }
   ],
   "source": [
    "U @ get_full_sigma(Sigma, A) @ V"
   ]
  },
  {
   "cell_type": "code",
   "execution_count": 251,
   "metadata": {},
   "outputs": [
    {
     "data": {
      "text/plain": [
       "(array([[ 0.70710678, -0.70710678],\n",
       "        [ 0.70710678,  0.70710678]]),\n",
       " array([1.73205081, 1.        ]),\n",
       " array([[ 4.08248290e-01,  4.08248290e-01,  8.16496581e-01],\n",
       "        [-7.07106781e-01,  7.07106781e-01,  2.78178085e-16],\n",
       "        [-5.77350269e-01, -5.77350269e-01,  5.77350269e-01]]))"
      ]
     },
     "execution_count": 251,
     "metadata": {},
     "output_type": "execute_result"
    }
   ],
   "source": [
    "B = np.array([[1,0,1],[0,1,1]])\n",
    "U, sigma, V  = np.linalg.svd(B)\n",
    "np.linalg.svd(B)"
   ]
  },
  {
   "cell_type": "code",
   "execution_count": 252,
   "metadata": {},
   "outputs": [
    {
     "data": {
      "text/plain": [
       "array([[ 1.00000000e+00, -1.11022302e-16,  1.00000000e+00],\n",
       "       [ 0.00000000e+00,  1.00000000e+00,  1.00000000e+00]])"
      ]
     },
     "execution_count": 252,
     "metadata": {},
     "output_type": "execute_result"
    }
   ],
   "source": [
    "U @ getFullSigma(sigma, B) @ V"
   ]
  },
  {
   "cell_type": "code",
   "execution_count": 253,
   "metadata": {},
   "outputs": [
    {
     "name": "stderr",
     "output_type": "stream",
     "text": [
      "<ipython-input-245-a79864595b5b>:10: RuntimeWarning: invalid value encountered in sqrt\n",
      "  Sigma = np.sqrt(sort_eigenvalues)\n"
     ]
    },
    {
     "data": {
      "text/plain": [
       "(array([[ 0.70710678, -0.70710678],\n",
       "        [ 0.70710678,  0.70710678]]),\n",
       " array([1.73205081, 1.        ]),\n",
       " array([[-4.08248290e-01, -4.08248290e-01, -8.16496581e-01],\n",
       "        [-7.07106781e-01,  7.07106781e-01, -2.61239546e-16],\n",
       "        [-5.77350269e-01, -5.77350269e-01,  5.77350269e-01]]))"
      ]
     },
     "execution_count": 253,
     "metadata": {},
     "output_type": "execute_result"
    }
   ],
   "source": [
    "U, sigma, V  = custom_SVD(B)\n",
    "custom_SVD(B)"
   ]
  },
  {
   "cell_type": "code",
   "execution_count": 255,
   "metadata": {},
   "outputs": [
    {
     "data": {
      "text/plain": [
       "array([[ 2.77555756e-16, -1.00000000e+00, -1.00000000e+00],\n",
       "       [-1.00000000e+00, -1.11022302e-16, -1.00000000e+00]])"
      ]
     },
     "execution_count": 255,
     "metadata": {},
     "output_type": "execute_result"
    }
   ],
   "source": [
    "U @ getFullSigma(sigma, B) @ V"
   ]
  },
  {
   "cell_type": "code",
   "execution_count": 256,
   "metadata": {},
   "outputs": [],
   "source": [
    "from PIL import Image"
   ]
  },
  {
   "cell_type": "code",
   "execution_count": 259,
   "metadata": {},
   "outputs": [],
   "source": [
    "image = Image.open('./vggface2_test/vggface2_test/test/n000001/0001_01.jpg')"
   ]
  },
  {
   "cell_type": "code",
   "execution_count": 262,
   "metadata": {},
   "outputs": [],
   "source": [
    "arr =np.array(image)"
   ]
  },
  {
   "cell_type": "code",
   "execution_count": 264,
   "metadata": {},
   "outputs": [],
   "source": [
    "U1, sigma, V = np.linalg.svd(arr)"
   ]
  },
  {
   "cell_type": "code",
   "execution_count": null,
   "metadata": {},
   "outputs": [],
   "source": []
  },
  {
   "cell_type": "code",
   "execution_count": null,
   "metadata": {},
   "outputs": [],
   "source": []
  },
  {
   "cell_type": "code",
   "execution_count": null,
   "metadata": {},
   "outputs": [],
   "source": []
  },
  {
   "cell_type": "code",
   "execution_count": null,
   "metadata": {},
   "outputs": [],
   "source": []
  },
  {
   "cell_type": "code",
   "execution_count": null,
   "metadata": {},
   "outputs": [],
   "source": []
  },
  {
   "cell_type": "code",
   "execution_count": null,
   "metadata": {},
   "outputs": [],
   "source": []
  },
  {
   "cell_type": "code",
   "execution_count": 78,
   "metadata": {},
   "outputs": [],
   "source": [
    "x = np.array([1,3,5,2,7])\n",
    "ind = np.argsort(x)[::-1]"
   ]
  },
  {
   "cell_type": "code",
   "execution_count": 79,
   "metadata": {},
   "outputs": [
    {
     "data": {
      "text/plain": [
       "array([7, 5, 3, 2, 1])"
      ]
     },
     "execution_count": 79,
     "metadata": {},
     "output_type": "execute_result"
    }
   ],
   "source": [
    "x[ind]"
   ]
  }
 ],
 "metadata": {
  "kernelspec": {
   "display_name": "Python 3",
   "language": "python",
   "name": "python3"
  },
  "language_info": {
   "codemirror_mode": {
    "name": "ipython",
    "version": 3
   },
   "file_extension": ".py",
   "mimetype": "text/x-python",
   "name": "python",
   "nbconvert_exporter": "python",
   "pygments_lexer": "ipython3",
   "version": "3.8.3"
  }
 },
 "nbformat": 4,
 "nbformat_minor": 4
}
