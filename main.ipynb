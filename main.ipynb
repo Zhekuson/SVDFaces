{
 "cells": [
  {
   "cell_type": "code",
   "execution_count": 2,
   "metadata": {},
   "outputs": [],
   "source": [
    "import numpy as np\n",
    "import sympy as sp\n",
    "import torch\n"
   ]
  },
  {
   "cell_type": "code",
   "execution_count": 5,
   "metadata": {},
   "outputs": [],
   "source": [
    "A = np.array([[1, 0, 0, 0, 2],\n",
    "      [0, 0, 3, 0, 0],\n",
    "      [0, 0, 0, 0, 0],\n",
    "      [0, 4, 0, 0, 0]])"
   ]
  },
  {
   "cell_type": "code",
   "execution_count": 6,
   "metadata": {},
   "outputs": [
    {
     "data": {
      "text/plain": [
       "(array([[ 0.,  0.,  1.,  0.],\n",
       "        [ 0.,  1.,  0.,  0.],\n",
       "        [ 0.,  0.,  0., -1.],\n",
       "        [ 1.,  0.,  0.,  0.]]),\n",
       " array([4.        , 3.        , 2.23606798, 0.        ]),\n",
       " array([[-0.        ,  1.        ,  0.        ,  0.        ,  0.        ],\n",
       "        [-0.        ,  0.        ,  1.        ,  0.        ,  0.        ],\n",
       "        [ 0.4472136 ,  0.        ,  0.        ,  0.        ,  0.89442719],\n",
       "        [ 0.        ,  0.        ,  0.        ,  1.        ,  0.        ],\n",
       "        [-0.89442719,  0.        ,  0.        ,  0.        ,  0.4472136 ]]))"
      ]
     },
     "execution_count": 6,
     "metadata": {},
     "output_type": "execute_result"
    }
   ],
   "source": [
    "np.linalg.svd(A)"
   ]
  },
  {
   "cell_type": "code",
   "execution_count": 9,
   "metadata": {},
   "outputs": [],
   "source": [
    "def custom_SVD(M):\n",
    "    MTM = np.transpose(M) @ M\n",
    "    MMT = M @ np.transpose(M)\n",
    "    print(MTM)\n",
    "    print(MMT)\n",
    "    print(np.sort(np.linalg.eigvals(MTM))[::-1])"
   ]
  },
  {
   "cell_type": "code",
   "execution_count": 10,
   "metadata": {},
   "outputs": [
    {
     "name": "stdout",
     "output_type": "stream",
     "text": [
      "[[ 1  0  0  0  2]\n",
      " [ 0 16  0  0  0]\n",
      " [ 0  0  9  0  0]\n",
      " [ 0  0  0  0  0]\n",
      " [ 2  0  0  0  4]]\n",
      "[[ 5  0  0  0]\n",
      " [ 0  9  0  0]\n",
      " [ 0  0  0  0]\n",
      " [ 0  0  0 16]]\n",
      "[16.  9.  5.  0.  0.]\n"
     ]
    }
   ],
   "source": [
    "custom_SVD(A)"
   ]
  },
  {
   "cell_type": "code",
   "execution_count": 3,
   "metadata": {},
   "outputs": [
    {
     "name": "stderr",
     "output_type": "stream",
     "text": [
      "\"unzip\" не является внутренней или внешней\n",
      "командой, исполняемой программой или пакетным файлом.\n"
     ]
    }
   ],
   "source": [
    "\n"
   ]
  },
  {
   "cell_type": "code",
   "execution_count": null,
   "metadata": {},
   "outputs": [],
   "source": []
  }
 ],
 "metadata": {
  "kernelspec": {
   "display_name": "Python 3",
   "language": "python",
   "name": "python3"
  },
  "language_info": {
   "codemirror_mode": {
    "name": "ipython",
    "version": 3
   },
   "file_extension": ".py",
   "mimetype": "text/x-python",
   "name": "python",
   "nbconvert_exporter": "python",
   "pygments_lexer": "ipython3",
   "version": "3.8.3"
  }
 },
 "nbformat": 4,
 "nbformat_minor": 4
}
