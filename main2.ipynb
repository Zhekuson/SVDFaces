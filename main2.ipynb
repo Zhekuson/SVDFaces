{
 "cells": [
  {
   "cell_type": "code",
   "execution_count": 2,
   "metadata": {},
   "outputs": [],
   "source": [
    "import numpy as np\n",
    "import sympy as sp\n",
    "import torch\n",
    "np.linalg.eigvals(M)"
   ]
  },
  {
   "cell_type": "code",
   "execution_count": 44,
   "metadata": {},
   "outputs": [],
   "source": [
    "def get_sigma_matrix(M):\n",
    "    '''\n",
    "    returns sigma and \n",
    "    1) in case MMT -> U\n",
    "    2) in case MTM -> V\n",
    "    '''\n",
    "    eigenvalues, eigenvectors = np.linalg.eig(M)\n",
    "    sort_eigenvalues = np.sort(eigenvalues)[::-1]\n",
    "    indexes = np.argsort(eigenvalues)[::-1]\n",
    "    Sigma = np.sqrt(sort_eigenvalues)\n",
    "    matrix = eigenvectors[:,indexes]\n",
    "    return Sigma, matrix\n",
    "def custom_SVD(M):\n",
    "    '''\n",
    "    returns U, Sigma(vector), V^T\n",
    "    '''\n",
    "    MTM = np.transpose(M) @ M\n",
    "    MMT = M @ np.transpose(M)\n",
    "    # m x n  \n",
    "    if (M.shape[0] < M.shape[1]):\n",
    "        # m < n\n",
    "        Sigma, U = get_sigma_matrix(MMT)\n",
    "        #search V\n",
    "        _, V = get_sigma_matrix(MTM)\n",
    "    else:\n",
    "        # n <= m\n",
    "        Sigma, V = get_sigma_matrix(MTM)\n",
    "        # search U \n",
    "        _, U = get_sigma_matrix(MMT) \n",
    "    return U, Sigma, V.transpose()\n",
    "def get_full_sigma(Sigma, A):\n",
    "    result = np.zeros(A.shape)\n",
    "    for i in range(np.min(A.shape)):\n",
    "        result[i][i] = Sigma[i]\n",
    "    return result"
   ]
  },
  {
   "cell_type": "code",
   "execution_count": null,
   "metadata": {},
   "outputs": [],
   "source": []
  },
  {
   "cell_type": "code",
   "execution_count": null,
   "metadata": {},
   "outputs": [],
   "source": []
  },
  {
   "cell_type": "code",
   "execution_count": 15,
   "metadata": {},
   "outputs": [
    {
     "data": {
      "text/plain": [
       "array([[1, 0, 0, 0],\n",
       "       [0, 0, 0, 4],\n",
       "       [0, 3, 0, 0],\n",
       "       [0, 0, 0, 0],\n",
       "       [2, 0, 0, 0]])"
      ]
     },
     "execution_count": 15,
     "metadata": {},
     "output_type": "execute_result"
    }
   ],
   "source": [
    "A.conjugate().transpose()"
   ]
  },
  {
   "cell_type": "code",
   "execution_count": 51,
   "metadata": {},
   "outputs": [
    {
     "data": {
      "text/plain": [
       "array([[3., 1., 1.],\n",
       "       [1., 3., 1.],\n",
       "       [1., 1., 5.]])"
      ]
     },
     "execution_count": 51,
     "metadata": {},
     "output_type": "execute_result"
    }
   ],
   "source": [
    "A = np.diag([1,1,3])\n",
    "A = A + np.eye(3) + np.ones_like(A)\n",
    "A"
   ]
  },
  {
   "cell_type": "code",
   "execution_count": 52,
   "metadata": {},
   "outputs": [
    {
     "data": {
      "text/plain": [
       "(array([[-4.08248290e-01,  5.77350269e-01,  7.07106781e-01],\n",
       "        [-4.08248290e-01,  5.77350269e-01, -7.07106781e-01],\n",
       "        [-8.16496581e-01, -5.77350269e-01,  2.68773248e-16]]),\n",
       " array([6., 3., 2.]),\n",
       " array([[-4.08248290e-01, -4.08248290e-01, -8.16496581e-01],\n",
       "        [ 5.77350269e-01,  5.77350269e-01, -5.77350269e-01],\n",
       "        [ 7.07106781e-01, -7.07106781e-01,  1.65064933e-16]]))"
      ]
     },
     "execution_count": 52,
     "metadata": {},
     "output_type": "execute_result"
    }
   ],
   "source": [
    "np.linalg.svd(A)"
   ]
  },
  {
   "cell_type": "code",
   "execution_count": 53,
   "metadata": {},
   "outputs": [
    {
     "data": {
      "text/plain": [
       "(array([[-4.08248290e-01, -5.77350269e-01, -7.07106781e-01],\n",
       "        [-4.08248290e-01, -5.77350269e-01,  7.07106781e-01],\n",
       "        [-8.16496581e-01,  5.77350269e-01, -1.59560649e-16]]),\n",
       " array([6., 3., 2.]),\n",
       " array([[-4.08248290e-01, -4.08248290e-01, -8.16496581e-01],\n",
       "        [-5.77350269e-01, -5.77350269e-01,  5.77350269e-01],\n",
       "        [-7.07106781e-01,  7.07106781e-01, -1.59560649e-16]]))"
      ]
     },
     "execution_count": 53,
     "metadata": {},
     "output_type": "execute_result"
    }
   ],
   "source": [
    "custom_SVD(A)"
   ]
  },
  {
   "cell_type": "code",
   "execution_count": 56,
   "metadata": {},
   "outputs": [],
   "source": [
    "A = np.array([[1, 0, 0, 0, 2],\n",
    "      [0, 0, 3, 0, 0],\n",
    "      [0, 0, 0, 0, 0],\n",
    "      [0, 4, 0, 0, 0]])"
   ]
  },
  {
   "cell_type": "code",
   "execution_count": 57,
   "metadata": {},
   "outputs": [
    {
     "data": {
      "text/plain": [
       "(array([[ 0.,  0.,  1.,  0.],\n",
       "        [ 0.,  1.,  0.,  0.],\n",
       "        [ 0.,  0.,  0., -1.],\n",
       "        [ 1.,  0.,  0.,  0.]]),\n",
       " array([4.        , 3.        , 2.23606798, 0.        ]),\n",
       " array([[-0.        ,  1.        ,  0.        ,  0.        ,  0.        ],\n",
       "        [-0.        ,  0.        ,  1.        ,  0.        ,  0.        ],\n",
       "        [ 0.4472136 ,  0.        ,  0.        ,  0.        ,  0.89442719],\n",
       "        [ 0.        ,  0.        ,  0.        ,  1.        ,  0.        ],\n",
       "        [-0.89442719,  0.        ,  0.        ,  0.        ,  0.4472136 ]]))"
      ]
     },
     "execution_count": 57,
     "metadata": {},
     "output_type": "execute_result"
    }
   ],
   "source": [
    "np.linalg.svd(A)"
   ]
  },
  {
   "cell_type": "code",
   "execution_count": 60,
   "metadata": {},
   "outputs": [
    {
     "data": {
      "text/plain": [
       "array([[-1.,  0.,  0.,  0., -2.],\n",
       "       [ 0.,  0.,  3.,  0.,  0.],\n",
       "       [ 0.,  0.,  0.,  0.,  0.],\n",
       "       [ 0.,  4.,  0.,  0.,  0.]])"
      ]
     },
     "execution_count": 60,
     "metadata": {},
     "output_type": "execute_result"
    }
   ],
   "source": [
    "U, S, V = custom_SVD(A)\n",
    "\n",
    "U @ get_full_sigma(S,A) @ V"
   ]
  },
  {
   "cell_type": "code",
   "execution_count": 61,
   "metadata": {},
   "outputs": [
    {
     "data": {
      "text/plain": [
       "array([[4.        , 0.        , 0.        , 0.        , 0.        ],\n",
       "       [0.        , 3.        , 0.        , 0.        , 0.        ],\n",
       "       [0.        , 0.        , 2.23606798, 0.        , 0.        ],\n",
       "       [0.        , 0.        , 0.        , 0.        , 0.        ]])"
      ]
     },
     "execution_count": 61,
     "metadata": {},
     "output_type": "execute_result"
    }
   ],
   "source": [
    "get_full_sigma(S, A)"
   ]
  },
  {
   "cell_type": "code",
   "execution_count": 13,
   "metadata": {},
   "outputs": [
    {
     "name": "stdout",
     "output_type": "stream",
     "text": [
      "[[0. 0. 1. 0.]\n",
      " [0. 1. 0. 0.]\n",
      " [0. 0. 0. 1.]\n",
      " [1. 0. 0. 0.]] [4.         3.         2.23606798 0.        ] [[ 0.          1.          0.          0.          0.        ]\n",
      " [ 0.          0.          1.          0.          0.        ]\n",
      " [-0.4472136   0.          0.          0.         -0.89442719]\n",
      " [ 0.          0.          0.          1.          0.        ]\n",
      " [-0.89442719  0.          0.          0.          0.4472136 ]]\n"
     ]
    }
   ],
   "source": [
    "print(U, S, V)"
   ]
  },
  {
   "cell_type": "code",
   "execution_count": null,
   "metadata": {},
   "outputs": [],
   "source": []
  }
 ],
 "metadata": {
  "kernelspec": {
   "display_name": "Python 3",
   "language": "python",
   "name": "python3"
  },
  "language_info": {
   "codemirror_mode": {
    "name": "ipython",
    "version": 3
   },
   "file_extension": ".py",
   "mimetype": "text/x-python",
   "name": "python",
   "nbconvert_exporter": "python",
   "pygments_lexer": "ipython3",
   "version": "3.8.3"
  }
 },
 "nbformat": 4,
 "nbformat_minor": 4
}
